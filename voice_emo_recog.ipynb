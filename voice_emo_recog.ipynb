{
 "cells": [
  {
   "cell_type": "code",
   "execution_count": 15,
   "id": "44a36eca",
   "metadata": {},
   "outputs": [],
   "source": [
    "#imports"
   ]
  },
  {
   "cell_type": "code",
   "execution_count": 1,
   "id": "e94f8384",
   "metadata": {},
   "outputs": [],
   "source": [
    "#to supress warning regarding version not matching up or something\n",
    "\"\"\"From version 0.10 passing these as positional arguments will result in an error\"\"\"\n",
    "import warnings\n",
    "warnings.filterwarnings('ignore')"
   ]
  },
  {
   "cell_type": "code",
   "execution_count": 2,
   "id": "65011929",
   "metadata": {},
   "outputs": [],
   "source": [
    "#to save the model\n",
    "#joblib > pickle because it is more efficient with objects that carry larg numpy arrays\n",
    "import joblib"
   ]
  },
  {
   "cell_type": "code",
   "execution_count": 3,
   "id": "44e49254",
   "metadata": {},
   "outputs": [],
   "source": [
    "import librosa\n",
    "import soundfile"
   ]
  },
  {
   "cell_type": "code",
   "execution_count": 4,
   "id": "17b11d71",
   "metadata": {},
   "outputs": [],
   "source": [
    "import os, glob, pickle"
   ]
  },
  {
   "cell_type": "code",
   "execution_count": 5,
   "id": "1c341693",
   "metadata": {},
   "outputs": [],
   "source": [
    "import numpy as np"
   ]
  },
  {
   "cell_type": "code",
   "execution_count": 6,
   "id": "b746a7e2",
   "metadata": {},
   "outputs": [],
   "source": [
    "from sklearn.model_selection import train_test_split\n",
    "from sklearn.neural_network import MLPClassifier\n",
    "from sklearn.metrics import accuracy_score"
   ]
  },
  {
   "cell_type": "code",
   "execution_count": 7,
   "id": "f2c0d5a0",
   "metadata": {},
   "outputs": [],
   "source": [
    "#extract features from the sound\n",
    "def extract_features(file_name, chroma, mfcc, mel):\n",
    "    with soundfile.SoundFile(file_name) as sound_file:\n",
    "        results = np.array([])\n",
    "        x = sound_file.read(dtype=\"float32\")\n",
    "        sample_rate = sound_file.samplerate\n",
    "        \n",
    "        if chroma:\n",
    "            stft = np.abs(librosa.stft(x))\n",
    "            chroma = np.mean(librosa.feature.chroma_stft(S = stft, sr = sample_rate).T, axis = 0)\n",
    "            \"\"\"test = librosa.feature.chroma_stft(S = stft, sr = sample_rate).T\n",
    "            test_t = test.T\"\"\"\n",
    "            results = np.hstack((results, chroma))\n",
    "            \n",
    "        if mfcc:\n",
    "            mfccs = np.mean(librosa.feature.mfcc(y = x, sr = sample_rate, n_mfcc = 40).T, axis = 0)\n",
    "            \"\"\"test = librosa.feature.mfcc(y = x, sr = sample_rate, n_mfcc = 40)\"\"\"\n",
    "            results = np.hstack((results, mfccs))\n",
    "            \n",
    "        if mel:\n",
    "            mel = np.mean(librosa.feature.melspectrogram(x, sr = sample_rate).T, axis = 0)\n",
    "            \"\"\"test = librosa.feature.melspectrogram(x, sr = sample_rate)\"\"\"\n",
    "            results = np.hstack((results, mel))\n",
    "    return results"
   ]
  },
  {
   "cell_type": "code",
   "execution_count": 8,
   "id": "e678381a",
   "metadata": {},
   "outputs": [],
   "source": [
    "#dictionary to hold emotions that the dataset has and the emotions that we need\n",
    "emotions = {\n",
    "    '01' : 'neutral',\n",
    "    '02' : 'calm',\n",
    "    '03' : 'happy',\n",
    "    '04' : 'sad',\n",
    "    '05' : 'angry',\n",
    "    '06' : 'fearful',\n",
    "    '07' : 'disgust',\n",
    "    '08' : 'surprised'\n",
    "}\n",
    "\n",
    "emotions_to_observe = ['calm', 'happy', 'fearful', 'disgust']"
   ]
  },
  {
   "cell_type": "code",
   "execution_count": 9,
   "id": "19bfdd2a",
   "metadata": {},
   "outputs": [],
   "source": [
    "#load data, extract features of each sound track and split train test\n",
    "def load_data_and_split(test_size = 0.25):\n",
    "    #x for features, y for emotions\n",
    "    x, y = [], []\n",
    "    for file in glob.glob(\"./dataset/Actor_*/*.wav\"):\n",
    "        file_name = os.path.basename(file)\n",
    "        emotion = emotions[file_name.split(\"-\")[2]]\n",
    "        if emotion not in emotions_to_observe:\n",
    "            continue\n",
    "        feature = extract_features(file, mfcc = True, chroma = True, mel = True)\n",
    "        x.append(feature)\n",
    "        y.append(emotion)\n",
    "    return train_test_split(np.array(x), y, test_size = test_size)\n",
    "    #return x, y"
   ]
  },
  {
   "cell_type": "code",
   "execution_count": 10,
   "id": "535b821b",
   "metadata": {},
   "outputs": [],
   "source": [
    "#split the dataset like your parents did\n",
    "x_train, x_test, y_train, y_test = load_data_and_split()"
   ]
  },
  {
   "cell_type": "code",
   "execution_count": 11,
   "id": "fe736718",
   "metadata": {},
   "outputs": [
    {
     "name": "stdout",
     "output_type": "stream",
     "text": [
      "(576, 180) (192, 180)\n"
     ]
    }
   ],
   "source": [
    "print(x_train.shape, x_test.shape)\n",
    "#180 features, 576 and 192 datapoint in train and test sets respectively"
   ]
  },
  {
   "cell_type": "code",
   "execution_count": 12,
   "id": "a5c90da1",
   "metadata": {},
   "outputs": [],
   "source": [
    "#now, the good part (can't skip to it though)\n",
    "#initialize Multi Layer Perceptron(MLP) Classifier\n",
    "model = MLPClassifier(alpha=0.01, batch_size=192, hidden_layer_sizes=(300,), learning_rate='adaptive', max_iter=500)"
   ]
  },
  {
   "cell_type": "code",
   "execution_count": 13,
   "id": "7414a411",
   "metadata": {},
   "outputs": [
    {
     "data": {
      "text/plain": [
       "MLPClassifier(alpha=0.01, batch_size=192, hidden_layer_sizes=(300,),\n",
       "              learning_rate='adaptive', max_iter=500)"
      ]
     },
     "execution_count": 13,
     "metadata": {},
     "output_type": "execute_result"
    }
   ],
   "source": [
    "#fit model\n",
    "model.fit(x_train, y_train)"
   ]
  },
  {
   "cell_type": "code",
   "execution_count": 14,
   "id": "0aea072d",
   "metadata": {},
   "outputs": [],
   "source": [
    "#prediction making. (call Prof. Trelawney, maybe?)\n",
    "predictions = model.predict(x_test)"
   ]
  },
  {
   "cell_type": "code",
   "execution_count": 15,
   "id": "eaddf330",
   "metadata": {},
   "outputs": [
    {
     "name": "stdout",
     "output_type": "stream",
     "text": [
      "['fearful' 'calm' 'calm' 'fearful' 'disgust' 'happy' 'disgust' 'calm'\n",
      " 'happy' 'fearful' 'happy' 'calm' 'fearful' 'happy' 'calm' 'disgust'\n",
      " 'calm' 'fearful' 'disgust' 'fearful' 'fearful' 'disgust' 'fearful'\n",
      " 'disgust' 'calm' 'calm' 'calm' 'disgust' 'disgust' 'happy' 'calm'\n",
      " 'fearful' 'disgust' 'disgust' 'disgust' 'disgust' 'fearful' 'happy'\n",
      " 'disgust' 'disgust' 'calm' 'disgust' 'happy' 'happy' 'disgust' 'calm'\n",
      " 'fearful' 'disgust' 'fearful' 'happy' 'disgust' 'disgust' 'calm' 'calm'\n",
      " 'disgust' 'happy' 'fearful' 'happy' 'fearful' 'calm' 'happy' 'happy'\n",
      " 'fearful' 'calm' 'disgust' 'happy' 'calm' 'disgust' 'disgust' 'calm'\n",
      " 'fearful' 'fearful' 'disgust' 'fearful' 'calm' 'calm' 'fearful' 'disgust'\n",
      " 'fearful' 'disgust' 'calm' 'disgust' 'calm' 'calm' 'disgust' 'disgust'\n",
      " 'calm' 'fearful' 'fearful' 'fearful' 'fearful' 'fearful' 'fearful'\n",
      " 'disgust' 'disgust' 'calm' 'fearful' 'fearful' 'happy' 'calm' 'calm'\n",
      " 'calm' 'disgust' 'disgust' 'calm' 'disgust' 'fearful' 'fearful' 'fearful'\n",
      " 'disgust' 'calm' 'happy' 'happy' 'happy' 'fearful' 'fearful' 'disgust'\n",
      " 'calm' 'calm' 'disgust' 'happy' 'disgust' 'fearful' 'calm' 'calm'\n",
      " 'fearful' 'calm' 'fearful' 'fearful' 'calm' 'calm' 'disgust' 'fearful'\n",
      " 'calm' 'fearful' 'disgust' 'fearful' 'happy' 'calm' 'happy' 'calm'\n",
      " 'fearful' 'fearful' 'calm' 'calm' 'calm' 'fearful' 'happy' 'fearful'\n",
      " 'fearful' 'fearful' 'fearful' 'happy' 'fearful' 'disgust' 'fearful'\n",
      " 'calm' 'fearful' 'fearful' 'calm' 'fearful' 'happy' 'happy' 'calm'\n",
      " 'fearful' 'happy' 'disgust' 'happy' 'disgust' 'happy' 'disgust' 'calm'\n",
      " 'disgust' 'disgust' 'calm' 'disgust' 'calm' 'happy' 'calm' 'happy' 'calm'\n",
      " 'calm' 'calm' 'fearful' 'disgust' 'happy' 'calm' 'calm' 'happy' 'disgust'\n",
      " 'disgust' 'calm']\n"
     ]
    }
   ],
   "source": [
    "print(predictions)"
   ]
  },
  {
   "cell_type": "code",
   "execution_count": 16,
   "id": "dac910a4",
   "metadata": {},
   "outputs": [
    {
     "name": "stdout",
     "output_type": "stream",
     "text": [
      "0.71875\n"
     ]
    }
   ],
   "source": [
    "accuracy = accuracy_score(y_test, predictions)\n",
    "print(accuracy)"
   ]
  },
  {
   "cell_type": "code",
   "execution_count": 17,
   "id": "2cca80bd",
   "metadata": {},
   "outputs": [
    {
     "data": {
      "text/plain": [
       "['model/smol_model.pkl']"
      ]
     },
     "execution_count": 17,
     "metadata": {},
     "output_type": "execute_result"
    }
   ],
   "source": [
    "#save model\n",
    "joblib.dump(model, 'model/smol_model.pkl')"
   ]
  },
  {
   "cell_type": "code",
   "execution_count": 18,
   "id": "235516ee",
   "metadata": {},
   "outputs": [],
   "source": [
    "model2 = joblib.load('model/smol_model.pkl')"
   ]
  },
  {
   "cell_type": "code",
   "execution_count": 19,
   "id": "ae179ae2",
   "metadata": {},
   "outputs": [],
   "source": [
    "preds_2 = model2.predict(x_test)\n",
    "accu = accuracy_score(y_test, preds_2)"
   ]
  },
  {
   "cell_type": "code",
   "execution_count": 20,
   "id": "85c0626b",
   "metadata": {},
   "outputs": [
    {
     "name": "stdout",
     "output_type": "stream",
     "text": [
      "0.71875\n"
     ]
    }
   ],
   "source": [
    "print(accu)"
   ]
  },
  {
   "cell_type": "code",
   "execution_count": 22,
   "id": "2f87a8cd",
   "metadata": {},
   "outputs": [],
   "source": [
    "#testing things with a sample sound from the dataset\n",
    "#./test_sound_03-01-06-02-02-01-21.wav file I renamed to test, might not be available\n",
    "test_features = extract_features('./test_sound_03-01-06-02-02-01-21.wav', True, True, True)\n",
    "test_predictions = model.predict(test_features.reshape(1, -1))"
   ]
  },
  {
   "cell_type": "code",
   "execution_count": 23,
   "id": "8a5fec42",
   "metadata": {
    "collapsed": true
   },
   "outputs": [
    {
     "data": {
      "text/plain": [
       "array([[ 6.48414195e-01,  6.40534401e-01,  6.43361211e-01,\n",
       "         6.74933791e-01,  6.62627637e-01,  6.76647723e-01,\n",
       "         7.10181713e-01,  7.81257808e-01,  7.82246172e-01,\n",
       "         7.69857585e-01,  7.42866755e-01,  6.84088945e-01,\n",
       "        -4.68747345e+02,  4.84515991e+01, -1.35927353e+01,\n",
       "         1.63836994e+01, -2.76502132e+00, -7.70163965e+00,\n",
       "        -7.45595598e+00, -1.62535057e+01, -7.36014843e+00,\n",
       "        -2.37753630e+00, -1.24746122e+01, -9.15337920e-01,\n",
       "        -3.85157847e+00, -8.84522915e-01, -5.85053968e+00,\n",
       "        -7.07085371e+00, -2.70024228e+00, -5.26100111e+00,\n",
       "        -5.45318937e+00, -4.69488335e+00, -4.57296896e+00,\n",
       "        -5.49660063e+00, -3.68476152e+00, -3.87589741e+00,\n",
       "        -3.01609468e+00, -1.44686496e+00, -9.46582556e-01,\n",
       "        -3.27571273e+00, -3.77673364e+00, -3.42828560e+00,\n",
       "        -3.58353186e+00, -2.28138852e+00, -2.00308585e+00,\n",
       "        -3.75584579e+00, -4.23369837e+00, -1.62946105e-01,\n",
       "        -1.10353887e+00,  7.97449946e-01, -1.50440025e+00,\n",
       "        -1.12958086e+00,  3.67918183e-05,  9.36707074e-05,\n",
       "         5.67700306e-04,  1.42026274e-02,  1.89595848e-01,\n",
       "         7.34887481e-01,  9.94079769e-01,  2.24997342e-01,\n",
       "         6.86911717e-02,  1.16215624e-01,  6.63967192e-01,\n",
       "         1.00677407e+00,  5.89648247e-01,  1.02053642e+00,\n",
       "         8.76759946e-01,  1.25399792e+00,  2.51681161e+00,\n",
       "         1.01854897e+00,  8.22997272e-01,  9.80594039e-01,\n",
       "         1.78114474e+00,  1.14572084e+00,  9.77494717e-01,\n",
       "         1.03190374e+00,  1.09753716e+00,  5.84864736e-01,\n",
       "         3.36226434e-01,  1.29789460e+00,  6.70493364e-01,\n",
       "         5.15841246e-01,  4.83644962e-01,  9.86334532e-02,\n",
       "         1.04133800e-01,  9.34885964e-02,  1.65311456e-01,\n",
       "         6.88485429e-02,  3.44435014e-02,  4.56007756e-02,\n",
       "         4.82474640e-02,  5.65819480e-02,  4.41527404e-02,\n",
       "         4.58207279e-02,  9.93740931e-02,  1.01353645e-01,\n",
       "         8.80682617e-02,  3.19565162e-02,  7.53585398e-02,\n",
       "         5.49153872e-02,  5.83481938e-02,  1.54348999e-01,\n",
       "         1.44606218e-01,  9.81822759e-02,  4.46721837e-02,\n",
       "         5.75615503e-02,  1.62304610e-01,  8.91918764e-02,\n",
       "         6.32803366e-02,  1.18827440e-01,  2.48848736e-01,\n",
       "         7.10982457e-02,  3.64218578e-02,  2.38827601e-01,\n",
       "         1.60424158e-01,  4.80009839e-02,  7.55387917e-02,\n",
       "         1.36468172e-01,  3.17379534e-02,  1.97825041e-02,\n",
       "         1.98587812e-02,  2.09979713e-02,  1.95034929e-02,\n",
       "         1.07092736e-02,  1.28458757e-02,  1.86783504e-02,\n",
       "         7.95603730e-03,  1.58207323e-02,  2.89352257e-02,\n",
       "         2.34965999e-02,  1.42843515e-01,  5.30954264e-02,\n",
       "         6.79085925e-02,  7.34110698e-02,  4.29471508e-02,\n",
       "         2.53211558e-02,  2.84303855e-02,  3.08939926e-02,\n",
       "         5.08157946e-02,  4.92381565e-02,  7.70362467e-02,\n",
       "         6.55140355e-02,  2.69339886e-02,  2.75270771e-02,\n",
       "         1.98687408e-02,  1.31730000e-02,  1.09000737e-02,\n",
       "         1.02417925e-02,  6.45785173e-03,  4.65406617e-03,\n",
       "         2.85093789e-03,  3.09268641e-03,  2.45922618e-03,\n",
       "         4.40645264e-03,  1.88308780e-03,  2.04066071e-03,\n",
       "         1.85684755e-03,  3.04019172e-03,  4.01644735e-03,\n",
       "         6.78995252e-03,  7.98323378e-03,  1.13030123e-02,\n",
       "         1.01360250e-02,  4.04036185e-03,  3.12154251e-03,\n",
       "         3.48919723e-03,  4.41777101e-03,  4.89834324e-03,\n",
       "         3.76325566e-03,  3.44238244e-03,  3.47297126e-03,\n",
       "         3.82133061e-03,  3.30258184e-03,  2.69142026e-03,\n",
       "         1.59948308e-03,  1.81167561e-03,  1.44426839e-03,\n",
       "         7.79429858e-04,  4.31830122e-04,  3.23308836e-04]])"
      ]
     },
     "execution_count": 23,
     "metadata": {},
     "output_type": "execute_result"
    }
   ],
   "source": [
    "test_features.reshape(1, -1)"
   ]
  },
  {
   "cell_type": "code",
   "execution_count": 24,
   "id": "05e5cade",
   "metadata": {
    "collapsed": true
   },
   "outputs": [
    {
     "data": {
      "text/plain": [
       "array([ 6.48414195e-01,  6.40534401e-01,  6.43361211e-01,  6.74933791e-01,\n",
       "        6.62627637e-01,  6.76647723e-01,  7.10181713e-01,  7.81257808e-01,\n",
       "        7.82246172e-01,  7.69857585e-01,  7.42866755e-01,  6.84088945e-01,\n",
       "       -4.68747345e+02,  4.84515991e+01, -1.35927353e+01,  1.63836994e+01,\n",
       "       -2.76502132e+00, -7.70163965e+00, -7.45595598e+00, -1.62535057e+01,\n",
       "       -7.36014843e+00, -2.37753630e+00, -1.24746122e+01, -9.15337920e-01,\n",
       "       -3.85157847e+00, -8.84522915e-01, -5.85053968e+00, -7.07085371e+00,\n",
       "       -2.70024228e+00, -5.26100111e+00, -5.45318937e+00, -4.69488335e+00,\n",
       "       -4.57296896e+00, -5.49660063e+00, -3.68476152e+00, -3.87589741e+00,\n",
       "       -3.01609468e+00, -1.44686496e+00, -9.46582556e-01, -3.27571273e+00,\n",
       "       -3.77673364e+00, -3.42828560e+00, -3.58353186e+00, -2.28138852e+00,\n",
       "       -2.00308585e+00, -3.75584579e+00, -4.23369837e+00, -1.62946105e-01,\n",
       "       -1.10353887e+00,  7.97449946e-01, -1.50440025e+00, -1.12958086e+00,\n",
       "        3.67918183e-05,  9.36707074e-05,  5.67700306e-04,  1.42026274e-02,\n",
       "        1.89595848e-01,  7.34887481e-01,  9.94079769e-01,  2.24997342e-01,\n",
       "        6.86911717e-02,  1.16215624e-01,  6.63967192e-01,  1.00677407e+00,\n",
       "        5.89648247e-01,  1.02053642e+00,  8.76759946e-01,  1.25399792e+00,\n",
       "        2.51681161e+00,  1.01854897e+00,  8.22997272e-01,  9.80594039e-01,\n",
       "        1.78114474e+00,  1.14572084e+00,  9.77494717e-01,  1.03190374e+00,\n",
       "        1.09753716e+00,  5.84864736e-01,  3.36226434e-01,  1.29789460e+00,\n",
       "        6.70493364e-01,  5.15841246e-01,  4.83644962e-01,  9.86334532e-02,\n",
       "        1.04133800e-01,  9.34885964e-02,  1.65311456e-01,  6.88485429e-02,\n",
       "        3.44435014e-02,  4.56007756e-02,  4.82474640e-02,  5.65819480e-02,\n",
       "        4.41527404e-02,  4.58207279e-02,  9.93740931e-02,  1.01353645e-01,\n",
       "        8.80682617e-02,  3.19565162e-02,  7.53585398e-02,  5.49153872e-02,\n",
       "        5.83481938e-02,  1.54348999e-01,  1.44606218e-01,  9.81822759e-02,\n",
       "        4.46721837e-02,  5.75615503e-02,  1.62304610e-01,  8.91918764e-02,\n",
       "        6.32803366e-02,  1.18827440e-01,  2.48848736e-01,  7.10982457e-02,\n",
       "        3.64218578e-02,  2.38827601e-01,  1.60424158e-01,  4.80009839e-02,\n",
       "        7.55387917e-02,  1.36468172e-01,  3.17379534e-02,  1.97825041e-02,\n",
       "        1.98587812e-02,  2.09979713e-02,  1.95034929e-02,  1.07092736e-02,\n",
       "        1.28458757e-02,  1.86783504e-02,  7.95603730e-03,  1.58207323e-02,\n",
       "        2.89352257e-02,  2.34965999e-02,  1.42843515e-01,  5.30954264e-02,\n",
       "        6.79085925e-02,  7.34110698e-02,  4.29471508e-02,  2.53211558e-02,\n",
       "        2.84303855e-02,  3.08939926e-02,  5.08157946e-02,  4.92381565e-02,\n",
       "        7.70362467e-02,  6.55140355e-02,  2.69339886e-02,  2.75270771e-02,\n",
       "        1.98687408e-02,  1.31730000e-02,  1.09000737e-02,  1.02417925e-02,\n",
       "        6.45785173e-03,  4.65406617e-03,  2.85093789e-03,  3.09268641e-03,\n",
       "        2.45922618e-03,  4.40645264e-03,  1.88308780e-03,  2.04066071e-03,\n",
       "        1.85684755e-03,  3.04019172e-03,  4.01644735e-03,  6.78995252e-03,\n",
       "        7.98323378e-03,  1.13030123e-02,  1.01360250e-02,  4.04036185e-03,\n",
       "        3.12154251e-03,  3.48919723e-03,  4.41777101e-03,  4.89834324e-03,\n",
       "        3.76325566e-03,  3.44238244e-03,  3.47297126e-03,  3.82133061e-03,\n",
       "        3.30258184e-03,  2.69142026e-03,  1.59948308e-03,  1.81167561e-03,\n",
       "        1.44426839e-03,  7.79429858e-04,  4.31830122e-04,  3.23308836e-04])"
      ]
     },
     "execution_count": 24,
     "metadata": {},
     "output_type": "execute_result"
    }
   ],
   "source": [
    "test_features"
   ]
  },
  {
   "cell_type": "code",
   "execution_count": 25,
   "id": "afce1e6b",
   "metadata": {},
   "outputs": [
    {
     "data": {
      "text/plain": [
       "array(['fearful'], dtype='<U7')"
      ]
     },
     "execution_count": 25,
     "metadata": {},
     "output_type": "execute_result"
    }
   ],
   "source": [
    "test_predictions"
   ]
  },
  {
   "cell_type": "code",
   "execution_count": 50,
   "id": "5778dd58",
   "metadata": {
    "collapsed": true
   },
   "outputs": [
    {
     "name": "stdout",
     "output_type": "stream",
     "text": [
      "16000\n"
     ]
    }
   ],
   "source": [
    "\"\"\"\n",
    "file = \"./dataset/Actor_01/03-01-01-01-01-01-01.wav\"\n",
    "#with np.printoptions(threshold=np.inf):\n",
    "print(extract_features(file))\n",
    "\"\"\""
   ]
  },
  {
   "cell_type": "code",
   "execution_count": 80,
   "id": "2d658783",
   "metadata": {
    "collapsed": true
   },
   "outputs": [
    {
     "name": "stdout",
     "output_type": "stream",
     "text": [
      "<class 'numpy.ndarray'>\n"
     ]
    },
    {
     "name": "stderr",
     "output_type": "stream",
     "text": [
      "/tmp/ipykernel_143/3671670775.py:21: FutureWarning: Pass y=[0. 0. 0. ... 0. 0. 0.] as keyword args. From version 0.10 passing these as positional arguments will result in an error\n",
      "  mel = np.mean(librosa.feature.melspectrogram(x, sr = sample_rate).T, axis = 0)\n",
      "/tmp/ipykernel_143/3671670775.py:22: FutureWarning: Pass y=[0. 0. 0. ... 0. 0. 0.] as keyword args. From version 0.10 passing these as positional arguments will result in an error\n",
      "  test = librosa.feature.melspectrogram(x, sr = sample_rate)\n"
     ]
    }
   ],
   "source": [
    "\"\"\"\n",
    "file = \"./dataset/Actor_01/03-01-01-01-01-01-01.wav\"\n",
    "#with np.printoptions(threshold=np.inf):\n",
    "print(type(extract_features(file, chroma = False, mfcc = False, mel = True)))\n",
    "\"\"\""
   ]
  },
  {
   "cell_type": "code",
   "execution_count": 66,
   "id": "20430487",
   "metadata": {},
   "outputs": [],
   "source": [
    "\"\"\"\n",
    "import matplotlib.pyplot as plt\n",
    "import librosa.display\n",
    "\"\"\""
   ]
  },
  {
   "cell_type": "code",
   "execution_count": 64,
   "id": "a9ce2ea5",
   "metadata": {
    "collapsed": true
   },
   "outputs": [
    {
     "name": "stderr",
     "output_type": "stream",
     "text": [
      "Downloading file 'Kevin_MacLeod_-_P_I_Tchaikovsky_Dance_of_the_Sugar_Plum_Fairy.ogg' from 'https://librosa.org/data/audio/Kevin_MacLeod_-_P_I_Tchaikovsky_Dance_of_the_Sugar_Plum_Fairy.ogg' to '/home/the_law/.cache/librosa'.\n"
     ]
    }
   ],
   "source": [
    "\"\"\"\n",
    "y, sr = librosa.load(librosa.ex('nutcracker'), duration=15)\n",
    "S = np.abs(librosa.stft(y, n_fft=4096))**2\n",
    "chroma = librosa.feature.chroma_stft(S=S, sr=sr)\n",
    "\"\"\""
   ]
  },
  {
   "cell_type": "code",
   "execution_count": 68,
   "id": "ce29c7a0",
   "metadata": {
    "collapsed": true
   },
   "outputs": [
    {
     "data": {
      "text/plain": [
       "<matplotlib.colorbar.Colorbar at 0x7f07ddccf6a0>"
      ]
     },
     "execution_count": 68,
     "metadata": {},
     "output_type": "execute_result"
    },
    {
     "data": {
      "image/png": "[encoded data removed]",
      "text/plain": [
       "<Figure size 432x288 with 4 Axes>"
      ]
     },
     "metadata": {
      "needs_background": "light"
     },
     "output_type": "display_data"
    }
   ],
   "source": [
    "\"\"\"\n",
    "fig, ax = plt.subplots(nrows=2, sharex=True)\n",
    "img = librosa.display.specshow(librosa.amplitude_to_db(S, ref=np.max), y_axis='log', x_axis='time', ax=ax[0])\n",
    "fig.colorbar(img, ax=[ax[0]])\n",
    "ax[0].label_outer()\n",
    "img = librosa.display.specshow(chroma, y_axis='chroma', x_axis='time', ax=ax[1])\n",
    "fig.colorbar(img, ax=[ax[1]])\n",
    "\"\"\""
   ]
  }
 ],
 "metadata": {
  "kernelspec": {
   "display_name": "Python 3 (ipykernel)",
   "language": "python",
   "name": "python3"
  },
  "language_info": {
   "codemirror_mode": {
    "name": "ipython",
    "version": 3
   },
   "file_extension": ".py",
   "mimetype": "text/x-python",
   "name": "python",
   "nbconvert_exporter": "python",
   "pygments_lexer": "ipython3",
   "version": "3.8.10"
  }
 },
 "nbformat": 4,
 "nbformat_minor": 5
}
